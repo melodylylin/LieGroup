{
 "cells": [
  {
   "cell_type": "code",
   "execution_count": 1,
   "metadata": {},
   "outputs": [],
   "source": [
    "from SE3 import se3, SE3\n",
    "from SO3 import so3, DCM, Euler, MRP, Quat\n",
    "from SE2 import se2, SE2\n",
    "from SO2 import so2, SO2\n",
    "import casadi as ca\n",
    "%load_ext autoreload\n",
    "%autoreload 2"
   ]
  },
  {
   "attachments": {},
   "cell_type": "markdown",
   "metadata": {},
   "source": [
    "All inputs for group/algebra has to be np.array([]) (e.g., se3(x) where x is a np.array which has shape (6,1) or (6,))\n",
    "\n",
    "Algebra:\n",
    "\n",
    "- property: wedge, ad_matrix\n",
    "- method: vee (input: Lie algebra matrix, output: vector of algebra element)\n",
    "\n",
    "Group:\n",
    "\n",
    "- property: to_matrix, inv, Ad_matrix\n",
    "- method: \n",
    "    - to_vect (input: Lie group matrix, output: vector of Group element)\n",
    "    - log (input: Group (e.g., SE3(x)), output: return Algebra) \n",
    "    - exp (input: Algebra (e.g., se3(x)), output: return Group)\n",
    "\n",
    "** use wedge/to_matrix get the group/algebra to a matrix of np.array\n",
    "\n",
    "** use .param get the element of group/algebra to a vector of np.array (e.g., x = se3(x).param)\n",
    "\n",
    "** inputs for tranformation in SO3 should be np.array (e.g., DCM.from_euler(np.array), Euler.from_dcm(np.array))\n",
    "\n",
    "** both @ and * can do multiplication for group, both matrix has to be in same group!\n",
    "\n",
    "** @ still can do np array/matrix multiplication, as long as two elements are both in np"
   ]
  },
  {
   "cell_type": "code",
   "execution_count": 2,
   "metadata": {},
   "outputs": [],
   "source": [
    "x = ca.DM([1,2,3,0.1,0.2,0.3])\n",
    "y = ca.DM([2,4,6,0.01,0.02,0.03])\n",
    "theta = x[3:6]"
   ]
  },
  {
   "cell_type": "code",
   "execution_count": 3,
   "metadata": {},
   "outputs": [
    {
     "data": {
      "text/plain": [
       "SX([1, 2, 3, 0.1, 0.2, 0.3])"
      ]
     },
     "execution_count": 3,
     "metadata": {},
     "output_type": "execute_result"
    }
   ],
   "source": [
    "a = se3(x)\n",
    "a"
   ]
  },
  {
   "cell_type": "code",
   "execution_count": 4,
   "metadata": {},
   "outputs": [
    {
     "data": {
      "text/plain": [
       "(6, 1)"
      ]
     },
     "execution_count": 4,
     "metadata": {},
     "output_type": "execute_result"
    }
   ],
   "source": [
    "a.param.shape"
   ]
  },
  {
   "cell_type": "code",
   "execution_count": 5,
   "metadata": {},
   "outputs": [
    {
     "name": "stdout",
     "output_type": "stream",
     "text": [
      "wedge: \n",
      "[[00, -0.3, 0.2], \n",
      " [0.3, 00, -0.1], \n",
      " [-0.2, 0.1, 00]]\n",
      "vee: [0.1, 0.2, 0.3]\n",
      "exp: \n",
      "[[0.935755, -0.283165, 0.210192], \n",
      " [0.302933, 0.950581, -0.0680313], \n",
      " [-0.18054, 0.127335, 0.97529]]\n",
      "exp_ele: [0.129826, 0.181536, 0.313084]\n"
     ]
    }
   ],
   "source": [
    "#test so3\n",
    "a = so3(theta)\n",
    "aw = a.wedge\n",
    "print('wedge:', aw)\n",
    "av = so3.vee(aw)\n",
    "print('vee:', av)\n",
    "\n",
    "A = DCM.exp(a) # return group of DCM\n",
    "print('exp:', A)\n",
    "theta_group = Euler.from_dcm(A)\n",
    "print('exp_ele:', theta_group)"
   ]
  },
  {
   "cell_type": "code",
   "execution_count": 6,
   "metadata": {},
   "outputs": [
    {
     "name": "stdout",
     "output_type": "stream",
     "text": [
      "SO3: \n",
      "[[0.935755, -0.283165, 0.210192], \n",
      " [0.302933, 0.950581, -0.0680313], \n",
      " [-0.18054, 0.127335, 0.97529]]\n",
      "inv \n",
      "[[0.935755, 0.302933, -0.18054], \n",
      " [-0.283165, 0.950581, 0.127335], \n",
      " [0.210192, -0.0680313, 0.97529]]\n",
      "0.374166\n",
      "log: \n",
      "[[00, -0.3, 0.2], \n",
      " [0.3, 00, -0.1], \n",
      " [-0.2, 0.1, 00]]\n",
      "log_v: [0.1, 0.2, 0.3]\n"
     ]
    }
   ],
   "source": [
    "# test SO3\n",
    "B = DCM.from_euler(theta_group) # group of DCM\n",
    "print('SO3:', B)\n",
    "print('inv', B.inv)\n",
    "b = DCM.log(B) # input of log should be group, return so3 algebra (which will show element)\n",
    "print('log:', b.wedge)\n",
    "print('log_v:', b)\n"
   ]
  },
  {
   "cell_type": "code",
   "execution_count": 7,
   "metadata": {},
   "outputs": [
    {
     "data": {
      "text/plain": [
       "SX(@1=1, @2=-5.55112e-17, @3=0, \n",
       "[[@1, @2, @3], \n",
       " [@2, @1, @3], \n",
       " [@3, @3, 1]])"
      ]
     },
     "execution_count": 7,
     "metadata": {},
     "output_type": "execute_result"
    }
   ],
   "source": [
    "# check inv and matmul for group\n",
    "DCM(B.inv)@B"
   ]
  },
  {
   "cell_type": "code",
   "execution_count": 8,
   "metadata": {},
   "outputs": [
    {
     "data": {
      "text/plain": [
       "SX(@1=1, @2=-5.55112e-17, @3=0, \n",
       "[[@1, @2, @3], \n",
       " [@2, @1, @3], \n",
       " [@3, @3, 1]])"
      ]
     },
     "execution_count": 8,
     "metadata": {},
     "output_type": "execute_result"
    }
   ],
   "source": [
    "# matmul can also be used in np.array\n",
    "B.inv@B.to_matrix"
   ]
  },
  {
   "cell_type": "code",
   "execution_count": 12,
   "metadata": {},
   "outputs": [
    {
     "name": "stdout",
     "output_type": "stream",
     "text": [
      "element: [1, 2, 3, 0.1, 0.2, 0.3]\n",
      "wedge: @1=0, \n",
      "[[00, -0.3, 0.2, 1], \n",
      " [0.3, 00, -0.1, 2], \n",
      " [-0.2, 0.1, 00, 3], \n",
      " [@1, @1, @1, @1]]\n",
      "vee: [1, 2, 3, 0.1, 0.2, 0.3]\n",
      "exp: @1=0, @2=1, \n",
      "[[0.935755, -0.283165, 0.210192, @2], \n",
      " [0.302933, 0.950581, -0.0680313, 2], \n",
      " [-0.18054, 0.127335, 0.97529, 3], \n",
      " [@1, @1, @1, @2]]\n",
      "exp_ele: [1, 2, 3, 0.129826, 0.181536, 0.313084]\n"
     ]
    }
   ],
   "source": [
    "# test se3\n",
    "c = se3(x)\n",
    "cw = c.wedge\n",
    "print('element:', c)\n",
    "print('wedge:', cw)\n",
    "print('vee:', se3.vee(cw))\n",
    "\n",
    "C = SE3.exp(c)\n",
    "print('exp:', C.to_matrix)\n",
    "print('exp_ele:', C)"
   ]
  },
  {
   "cell_type": "code",
   "execution_count": 13,
   "metadata": {},
   "outputs": [
    {
     "data": {
      "text/plain": [
       "SX(@1=0.3, @2=-0.2, @3=0, @4=-0.3, @5=0.1, @6=0.2, @7=-0.1, \n",
       "[[00, @4, @6, 00, -3, 2], \n",
       " [@1, 00, @7, 3, 00, -1], \n",
       " [@2, @5, 00, -2, 1, 00], \n",
       " [@3, @3, @3, 00, @4, @6], \n",
       " [@3, @3, @3, @1, 00, @7], \n",
       " [@3, @3, @3, @2, @5, 00]])"
      ]
     },
     "execution_count": 13,
     "metadata": {},
     "output_type": "execute_result"
    }
   ],
   "source": [
    "c.ad_matrix"
   ]
  },
  {
   "attachments": {},
   "cell_type": "markdown",
   "metadata": {},
   "source": [
    "Note that the elements of SE3 Lie group has to use [x,y,z,theta1,theta2,theta3] (pos, euler angles)\n",
    "\n",
    "if you have your angle in other format, use SO3 class to do the transformation first"
   ]
  },
  {
   "cell_type": "code",
   "execution_count": 14,
   "metadata": {},
   "outputs": [
    {
     "name": "stdout",
     "output_type": "stream",
     "text": [
      "SE3: @1=0, @2=1, \n",
      "[[0.935755, -0.283165, 0.210192, @2], \n",
      " [0.302933, 0.950581, -0.0680313, 2], \n",
      " [-0.18054, 0.127335, 0.97529, 3], \n",
      " [@1, @1, @1, @2]]\n",
      "inv: @1=0, \n",
      "[[0.935755, 0.302933, -0.18054, -1], \n",
      " [-0.283165, 0.950581, 0.127335, -2], \n",
      " [0.210192, -0.0680313, 0.97529, -3], \n",
      " [@1, @1, @1, 1]]\n",
      "0.374166\n",
      "log: [1, 2, 3, 0.1, 0.2, 0.3]\n"
     ]
    }
   ],
   "source": [
    "# test SE3\n",
    "D = SE3(SE3.to_vec(C.to_matrix))\n",
    "print('SE3:', D.to_matrix)\n",
    "print('inv:', D.inv)\n",
    "d = SE3.log(D) \n",
    "print('log:', d)"
   ]
  },
  {
   "cell_type": "code",
   "execution_count": 15,
   "metadata": {},
   "outputs": [
    {
     "data": {
      "text/plain": [
       "SX(@1=1, @2=6.245e-17, @3=-2.77556e-17, @4=0, @5=-1.38778e-17, \n",
       "[[@1, @2, @3, -4.44089e-16], \n",
       " [@2, @1, @5, -6.66134e-16], \n",
       " [@3, @5, 1, @4], \n",
       " [@4, @4, @4, 1]])"
      ]
     },
     "execution_count": 15,
     "metadata": {},
     "output_type": "execute_result"
    }
   ],
   "source": [
    "# check inv\n",
    "D.to_matrix@D.inv"
   ]
  },
  {
   "attachments": {},
   "cell_type": "markdown",
   "metadata": {},
   "source": [
    "$$ad(x)*y = - ad(y)*x$$"
   ]
  },
  {
   "cell_type": "code",
   "execution_count": 16,
   "metadata": {},
   "outputs": [
    {
     "data": {
      "text/plain": [
       "SX(@1=0, [@1, 5.55112e-17, @1, @1, @1, @1])"
      ]
     },
     "execution_count": 16,
     "metadata": {},
     "output_type": "execute_result"
    }
   ],
   "source": [
    "x1 = ca.DM([1,2,3,0.1,0.12,0.13])\n",
    "y1 = ca.DM([3,4,5,0.3,0.2,0.34])\n",
    "se3(x1).ad_matrix@y1 + se3(y1).ad_matrix@x1"
   ]
  },
  {
   "cell_type": "code",
   "execution_count": 17,
   "metadata": {},
   "outputs": [
    {
     "data": {
      "text/plain": [
       "SX(@1=0, [@1, @1, 00])"
      ]
     },
     "execution_count": 17,
     "metadata": {},
     "output_type": "execute_result"
    }
   ],
   "source": [
    "x2 = ca.DM([1,2,0.1])\n",
    "y2 = ca.DM([3,4,0.34])\n",
    "se2(x2).ad_matrix@y2 + se2(y2).ad_matrix@x2"
   ]
  },
  {
   "attachments": {},
   "cell_type": "markdown",
   "metadata": {},
   "source": [
    "$$Ad(\\exp([x]^{\\wedge})) = \\exp(ad([x]^{\\wedge})) $$"
   ]
  },
  {
   "cell_type": "code",
   "execution_count": 18,
   "metadata": {},
   "outputs": [
    {
     "name": "stderr",
     "output_type": "stream",
     "text": [
      "/opt/anaconda3/lib/python3.8/site-packages/scipy/__init__.py:146: UserWarning: A NumPy version >=1.16.5 and <1.23.0 is required for this version of SciPy (detected version 1.24.2\n",
      "  warnings.warn(f\"A NumPy version >={np_minversion} and <{np_maxversion}\"\n"
     ]
    }
   ],
   "source": [
    "from scipy import linalg"
   ]
  },
  {
   "cell_type": "code",
   "execution_count": 22,
   "metadata": {},
   "outputs": [
    {
     "data": {
      "text/plain": [
       "DM(\n",
       "[[0.984404, -0.123128, 0.125653, -0.625936, -2.78917, 2.17065], \n",
       " [0.135086, 0.986596, -0.0915399, 3.10661, -0.486684, -0.66091], \n",
       " [-0.112698, 0.107086, 0.987842, -1.74371, 1.27689, -0.337351], \n",
       " [0, 0, 0, 0.984404, -0.123128, 0.125653], \n",
       " [0, 0, 0, 0.135086, 0.986596, -0.0915399], \n",
       " [0, 0, 0, -0.112698, 0.107086, 0.987842]])"
      ]
     },
     "execution_count": 22,
     "metadata": {},
     "output_type": "execute_result"
    }
   ],
   "source": [
    "ca.DM(SE3.exp(se3(x1)).Ad_matrix)"
   ]
  },
  {
   "cell_type": "code",
   "execution_count": 24,
   "metadata": {},
   "outputs": [
    {
     "data": {
      "text/plain": [
       "DM(\n",
       "[[0.995004, -0.0998334, 2.04663], \n",
       " [0.0998334, 0.995004, -0.898417], \n",
       " [0, 0, 1]])"
      ]
     },
     "execution_count": 24,
     "metadata": {},
     "output_type": "execute_result"
    }
   ],
   "source": [
    "ca.DM(SE2.exp(se2(x2)).Ad_matrix)"
   ]
  },
  {
   "cell_type": "code",
   "execution_count": null,
   "metadata": {},
   "outputs": [],
   "source": []
  }
 ],
 "metadata": {
  "kernelspec": {
   "display_name": "base",
   "language": "python",
   "name": "python3"
  },
  "language_info": {
   "codemirror_mode": {
    "name": "ipython",
    "version": 3
   },
   "file_extension": ".py",
   "mimetype": "text/x-python",
   "name": "python",
   "nbconvert_exporter": "python",
   "pygments_lexer": "ipython3",
   "version": "3.8.12"
  },
  "orig_nbformat": 4
 },
 "nbformat": 4,
 "nbformat_minor": 2
}
