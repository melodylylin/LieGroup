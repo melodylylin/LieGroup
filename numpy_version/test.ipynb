{
 "cells": [
  {
   "cell_type": "code",
   "execution_count": 1,
   "metadata": {},
   "outputs": [],
   "source": [
    "from SE3 import se3, SE3\n",
    "from SO3 import so3, DCM, Euler, MRP, Quat\n",
    "from SE2 import se2, SE2\n",
    "from SO2 import so2, SO2\n",
    "import numpy as np\n",
    "%load_ext autoreload\n",
    "%autoreload 2"
   ]
  },
  {
   "attachments": {},
   "cell_type": "markdown",
   "metadata": {},
   "source": [
    "All inputs for group/algebra has to be np.array([]) (e.g., se3(x) where x is a np.array which has shape (6,1) or (6,))\n",
    "\n",
    "Algebra:\n",
    "\n",
    "- property: wedge, ad_matrix\n",
    "- method: vee (input: Lie algebra matrix, output: vector of algebra element)\n",
    "\n",
    "Group:\n",
    "\n",
    "- property: to_matrix, inv, Ad_matrix\n",
    "- method: \n",
    "    - to_vect (input: Lie group matrix, output: vector of Group element)\n",
    "    - log (input: Group (e.g., SE3(x)), output: return Algebra) \n",
    "    - exp (input: Algebra (e.g., se3(x)), output: return Group)\n",
    "\n",
    "** use wedge/to_matrix get the group/algebra to a matrix of np.array\n",
    "\n",
    "** use .param get the element of group/algebra to a vector of np.array (e.g., x = se3(x).param)\n",
    "\n",
    "** inputs for tranformation in SO3 should be np.array (e.g., DCM.from_euler(np.array), Euler.from_dcm(np.array))\n",
    "\n",
    "** both @ and * can do multiplication for group, both matrix has to be in same group!\n",
    "\n",
    "** @ still can do np array/matrix multiplication, as long as two elements are both in np"
   ]
  },
  {
   "cell_type": "code",
   "execution_count": 9,
   "metadata": {},
   "outputs": [],
   "source": [
    "x1 = np.array([0,0,0,0,0,0])\n",
    "x2 = np.array([1,1,2,0,0,0])"
   ]
  },
  {
   "cell_type": "code",
   "execution_count": 10,
   "metadata": {},
   "outputs": [],
   "source": [
    "X1 = SE3(x1)\n",
    "X2 = SE3(x2)"
   ]
  },
  {
   "cell_type": "code",
   "execution_count": 11,
   "metadata": {},
   "outputs": [
    {
     "data": {
      "text/plain": [
       "array([1., 1., 2., 0., 0., 0.])"
      ]
     },
     "execution_count": 11,
     "metadata": {},
     "output_type": "execute_result"
    }
   ],
   "source": [
    "eta_matrix = X1.inv @ X2.to_matrix\n",
    "eta = SE3.to_vec(eta_matrix)\n",
    "eta"
   ]
  },
  {
   "cell_type": "code",
   "execution_count": 17,
   "metadata": {},
   "outputs": [],
   "source": [
    "X = SE3(np.array([-2.290075, 7.4340122, 1.0000000e-03,   0.0000000e+00, 0.0000000e+00,  0.0000000e+00]))"
   ]
  },
  {
   "cell_type": "code",
   "execution_count": 19,
   "metadata": {},
   "outputs": [
    {
     "data": {
      "text/plain": [
       "array([-2.2900750e+00,  7.4340122e+00,  1.0000000e-03,  0.0000000e+00,\n",
       "        0.0000000e+00,  0.0000000e+00])"
      ]
     },
     "execution_count": 19,
     "metadata": {},
     "output_type": "execute_result"
    }
   ],
   "source": [
    "SE3.to_vec(X.to_matrix)"
   ]
  },
  {
   "cell_type": "code",
   "execution_count": 16,
   "metadata": {},
   "outputs": [],
   "source": [
    "x = np.array([1,1,1,0,0,0])\n",
    "y = np.array([2,4,6,0.01,0.02,0.03])\n",
    "theta = x[3:6]"
   ]
  },
  {
   "cell_type": "code",
   "execution_count": 7,
   "metadata": {},
   "outputs": [
    {
     "data": {
      "text/plain": [
       "array([1, 1, 1, 0, 0, 0])"
      ]
     },
     "execution_count": 7,
     "metadata": {},
     "output_type": "execute_result"
    }
   ],
   "source": [
    "a = se3(x)\n",
    "a"
   ]
  },
  {
   "cell_type": "code",
   "execution_count": 8,
   "metadata": {},
   "outputs": [
    {
     "data": {
      "text/plain": [
       "(6,)"
      ]
     },
     "execution_count": 8,
     "metadata": {},
     "output_type": "execute_result"
    }
   ],
   "source": [
    "a.param.shape"
   ]
  },
  {
   "cell_type": "code",
   "execution_count": 9,
   "metadata": {},
   "outputs": [
    {
     "name": "stdout",
     "output_type": "stream",
     "text": [
      "wedge: [[ 0. -0.  0.]\n",
      " [ 0.  0. -0.]\n",
      " [-0.  0.  0.]]\n",
      "vee: [0. 0. 0.]\n",
      "exp: [[1. 0. 0.]\n",
      " [0. 1. 0.]\n",
      " [0. 0. 1.]]\n",
      "exp_ele: [0. 0. 0.]\n"
     ]
    }
   ],
   "source": [
    "#test so3\n",
    "a = so3(theta)\n",
    "aw = a.wedge\n",
    "print('wedge:', aw)\n",
    "av = so3.vee(aw)\n",
    "print('vee:', av)\n",
    "\n",
    "A = DCM.exp(a) # return group of DCM\n",
    "print('exp:', A)\n",
    "theta_group = Euler.from_dcm(A)\n",
    "print('exp_ele:', theta_group)"
   ]
  },
  {
   "cell_type": "code",
   "execution_count": 18,
   "metadata": {},
   "outputs": [
    {
     "name": "stdout",
     "output_type": "stream",
     "text": [
      "SO3: [[1. 0. 0.]\n",
      " [0. 1. 0.]\n",
      " [0. 0. 1.]]\n",
      "inv [[1. 0. 0.]\n",
      " [0. 1. 0.]\n",
      " [0. 0. 1.]]\n",
      "log: [[ 0. -0.  0.]\n",
      " [ 0.  0. -0.]\n",
      " [-0.  0.  0.]]\n",
      "log_v: [0. 0. 0.]\n"
     ]
    },
    {
     "name": "stderr",
     "output_type": "stream",
     "text": [
      "/Users/liyulin/git/LieGroup/numpy_version/SO3.py:89: RuntimeWarning: invalid value encountered in scalar divide\n",
      "  A = np.where(np.abs(theta) < EPS, 1 - theta**2/6 + theta**4/120, np.sin(theta)/theta)\n"
     ]
    }
   ],
   "source": [
    "# test SO3\n",
    "B = DCM.from_euler(theta_group) # group of DCM\n",
    "print('SO3:', B)\n",
    "print('inv', B.inv)\n",
    "b = DCM.log(B) # input of log should be group, return so3 algebra (which will show element)\n",
    "print('log:', b.wedge)\n",
    "print('log_v:', b)\n"
   ]
  },
  {
   "cell_type": "code",
   "execution_count": 7,
   "metadata": {},
   "outputs": [
    {
     "data": {
      "text/plain": [
       "array([[ 1.00000000e+00, -6.20201117e-17,  4.00608379e-18],\n",
       "       [-6.20201117e-17,  1.00000000e+00,  1.71882035e-19],\n",
       "       [ 4.00608379e-18,  1.71882035e-19,  1.00000000e+00]])"
      ]
     },
     "execution_count": 7,
     "metadata": {},
     "output_type": "execute_result"
    }
   ],
   "source": [
    "# check inv and matmul for group\n",
    "DCM(B.inv)@B"
   ]
  },
  {
   "cell_type": "code",
   "execution_count": 8,
   "metadata": {},
   "outputs": [
    {
     "data": {
      "text/plain": [
       "array([[ 1.00000000e+00, -6.20201117e-17,  4.00608379e-18],\n",
       "       [-6.20201117e-17,  1.00000000e+00,  1.71882035e-19],\n",
       "       [ 4.00608379e-18,  1.71882035e-19,  1.00000000e+00]])"
      ]
     },
     "execution_count": 8,
     "metadata": {},
     "output_type": "execute_result"
    }
   ],
   "source": [
    "# matmul can also be used in np.array\n",
    "B.inv@B.to_matrix"
   ]
  },
  {
   "cell_type": "code",
   "execution_count": 19,
   "metadata": {},
   "outputs": [
    {
     "name": "stdout",
     "output_type": "stream",
     "text": [
      "element: [1 1 1 0 0 0]\n",
      "wedge: [[ 0. -0.  0.  1.]\n",
      " [ 0.  0. -0.  1.]\n",
      " [-0.  0.  0.  1.]\n",
      " [ 0.  0.  0.  0.]]\n",
      "vee: [1. 1. 1. 0. 0. 0.]\n",
      "exp: [[1. 0. 0. 1.]\n",
      " [0. 1. 0. 1.]\n",
      " [0. 0. 1. 1.]\n",
      " [0. 0. 0. 1.]]\n",
      "exp_ele: [1. 1. 1. 0. 0. 0.]\n"
     ]
    },
    {
     "name": "stderr",
     "output_type": "stream",
     "text": [
      "/Users/liyulin/git/LieGroup/numpy_version/SO3.py:97: RuntimeWarning: invalid value encountered in scalar divide\n",
      "  A = np.where(np.abs(theta) < EPS, 1 - theta**2/6 + theta**4/120, np.sin(theta)/theta)\n",
      "/Users/liyulin/git/LieGroup/numpy_version/SO3.py:98: RuntimeWarning: invalid value encountered in scalar divide\n",
      "  B = np.where(np.abs(theta)<EPS, 0.5 - theta ** 2 / 24 + theta ** 4 / 720, (1 - np.cos(theta)) / theta ** 2)\n",
      "/Users/liyulin/git/LieGroup/numpy_version/SO3.py:241: RuntimeWarning: invalid value encountered in scalar divide\n",
      "  q2[0] = (R[2, 1] - R[1, 2]) / (4 * b2)\n",
      "/Users/liyulin/git/LieGroup/numpy_version/SO3.py:243: RuntimeWarning: invalid value encountered in scalar divide\n",
      "  q2[2] = (R[0, 1] + R[1, 0]) / (4 * b2)\n",
      "/Users/liyulin/git/LieGroup/numpy_version/SO3.py:244: RuntimeWarning: invalid value encountered in scalar divide\n",
      "  q2[3] = (R[0, 2] + R[2, 0]) / (4 * b2)\n",
      "/Users/liyulin/git/LieGroup/numpy_version/SO3.py:247: RuntimeWarning: invalid value encountered in scalar divide\n",
      "  q3[0] = (R[0, 2] - R[2, 0]) / (4 * b3)\n",
      "/Users/liyulin/git/LieGroup/numpy_version/SO3.py:248: RuntimeWarning: invalid value encountered in scalar divide\n",
      "  q3[1] = (R[0, 1] + R[1, 0]) / (4 * b3)\n",
      "/Users/liyulin/git/LieGroup/numpy_version/SO3.py:250: RuntimeWarning: invalid value encountered in scalar divide\n",
      "  q3[3] = (R[1, 2] + R[2, 1]) / (4 * b3)\n",
      "/Users/liyulin/git/LieGroup/numpy_version/SO3.py:253: RuntimeWarning: invalid value encountered in scalar divide\n",
      "  q4[0] = (R[1, 0] - R[0, 1]) / (4 * b4)\n",
      "/Users/liyulin/git/LieGroup/numpy_version/SO3.py:254: RuntimeWarning: invalid value encountered in scalar divide\n",
      "  q4[1] = (R[0, 2] + R[2, 0]) / (4 * b4)\n",
      "/Users/liyulin/git/LieGroup/numpy_version/SO3.py:255: RuntimeWarning: invalid value encountered in scalar divide\n",
      "  q4[2] = (R[1, 2] + R[2, 1]) / (4 * b4)\n"
     ]
    }
   ],
   "source": [
    "# test se3\n",
    "c = se3(x)\n",
    "cw = c.wedge\n",
    "print('element:', c)\n",
    "print('wedge:', cw)\n",
    "print('vee:', se3.vee(cw))\n",
    "\n",
    "C = SE3.exp(c)\n",
    "print('exp:', C.to_matrix)\n",
    "print('exp_ele:', C)"
   ]
  },
  {
   "cell_type": "code",
   "execution_count": 10,
   "metadata": {},
   "outputs": [
    {
     "data": {
      "text/plain": [
       "array([[ 0. , -0.3,  0.2,  0. , -3. ,  2. ],\n",
       "       [ 0.3,  0. , -0.1,  3. ,  0. , -1. ],\n",
       "       [-0.2,  0.1,  0. , -2. ,  1. ,  0. ],\n",
       "       [ 0. ,  0. ,  0. ,  0. , -0.3,  0.2],\n",
       "       [ 0. ,  0. ,  0. ,  0.3,  0. , -0.1],\n",
       "       [ 0. ,  0. ,  0. , -0.2,  0.1,  0. ]])"
      ]
     },
     "execution_count": 10,
     "metadata": {},
     "output_type": "execute_result"
    }
   ],
   "source": [
    "c.ad_matrix"
   ]
  },
  {
   "attachments": {},
   "cell_type": "markdown",
   "metadata": {},
   "source": [
    "Note that the elements of SE3 Lie group has to use [x,y,z,theta1,theta2,theta3] (pos, euler angles)\n",
    "\n",
    "if you have your angle in other format, use SO3 class to do the transformation first"
   ]
  },
  {
   "cell_type": "code",
   "execution_count": 11,
   "metadata": {},
   "outputs": [
    {
     "name": "stdout",
     "output_type": "stream",
     "text": [
      "SE3: [[ 0.9357548  -0.28316496  0.21019171  1.        ]\n",
      " [ 0.30293271  0.95058062 -0.06803132  2.        ]\n",
      " [-0.18054008  0.12733457  0.97529031  3.        ]\n",
      " [ 0.          0.          0.          1.        ]]\n",
      "inv: [[ 0.9357548   0.30293271 -0.18054008 -1.        ]\n",
      " [-0.28316496  0.95058062  0.12733457 -2.        ]\n",
      " [ 0.21019171 -0.06803132  0.97529031 -3.        ]\n",
      " [ 0.          0.          0.          1.        ]]\n",
      "log: [1.  2.  3.  0.1 0.2 0.3]\n"
     ]
    }
   ],
   "source": [
    "# test SE3\n",
    "D = SE3(SE3.to_vec(C.to_matrix))\n",
    "print('SE3:', D.to_matrix)\n",
    "print('inv:', D.inv)\n",
    "d = SE3.log(D) \n",
    "print('log:', d)"
   ]
  },
  {
   "cell_type": "code",
   "execution_count": 12,
   "metadata": {},
   "outputs": [
    {
     "data": {
      "text/plain": [
       "array([[ 1.00000000e+00,  4.06061149e-17, -4.13982832e-17,\n",
       "        -4.44089210e-16],\n",
       "       [ 4.06061149e-17,  1.00000000e+00, -1.60159711e-17,\n",
       "        -6.66133815e-16],\n",
       "       [-4.13982832e-17, -1.60159711e-17,  1.00000000e+00,\n",
       "        -4.44089210e-16],\n",
       "       [ 0.00000000e+00,  0.00000000e+00,  0.00000000e+00,\n",
       "         1.00000000e+00]])"
      ]
     },
     "execution_count": 12,
     "metadata": {},
     "output_type": "execute_result"
    }
   ],
   "source": [
    "# check inv\n",
    "D.to_matrix@D.inv"
   ]
  },
  {
   "attachments": {},
   "cell_type": "markdown",
   "metadata": {},
   "source": [
    "$$ad(x)*y = - ad(y)*x$$"
   ]
  },
  {
   "cell_type": "code",
   "execution_count": 13,
   "metadata": {},
   "outputs": [
    {
     "data": {
      "text/plain": [
       "array([0.00000000e+00, 5.55111512e-17, 0.00000000e+00, 0.00000000e+00,\n",
       "       0.00000000e+00, 0.00000000e+00])"
      ]
     },
     "execution_count": 13,
     "metadata": {},
     "output_type": "execute_result"
    }
   ],
   "source": [
    "x1 = np.array([1,2,3,0.1,0.12,0.13])\n",
    "y1 = np.array([3,4,5,0.3,0.2,0.34])\n",
    "se3(x1).ad_matrix@y1 + se3(y1).ad_matrix@x1"
   ]
  },
  {
   "cell_type": "code",
   "execution_count": 14,
   "metadata": {},
   "outputs": [
    {
     "data": {
      "text/plain": [
       "array([0., 0., 0.])"
      ]
     },
     "execution_count": 14,
     "metadata": {},
     "output_type": "execute_result"
    }
   ],
   "source": [
    "x2 = np.array([1,2,0.1])\n",
    "y2 = np.array([3,4,0.34])\n",
    "se2(x2).ad_matrix@y2 + se2(y2).ad_matrix@x2"
   ]
  },
  {
   "attachments": {},
   "cell_type": "markdown",
   "metadata": {},
   "source": [
    "$$Ad(\\exp([x]^{\\wedge})) = \\exp(ad([x]^{\\wedge})) $$"
   ]
  },
  {
   "cell_type": "code",
   "execution_count": 15,
   "metadata": {},
   "outputs": [
    {
     "name": "stderr",
     "output_type": "stream",
     "text": [
      "/opt/anaconda3/lib/python3.8/site-packages/scipy/__init__.py:146: UserWarning: A NumPy version >=1.16.5 and <1.23.0 is required for this version of SciPy (detected version 1.24.2\n",
      "  warnings.warn(f\"A NumPy version >={np_minversion} and <{np_maxversion}\"\n"
     ]
    }
   ],
   "source": [
    "from scipy import linalg"
   ]
  },
  {
   "cell_type": "code",
   "execution_count": 16,
   "metadata": {},
   "outputs": [
    {
     "data": {
      "text/plain": [
       "array([[ 0.98440379, -0.12312763,  0.12565336, -0.62593589, -2.78916762,\n",
       "         2.17065455],\n",
       "       [ 0.13508639,  0.98659623, -0.09153989,  3.10661182, -0.48668399,\n",
       "        -0.66090972],\n",
       "       [-0.11269804,  0.10708628,  0.98784193, -1.74370975,  1.27688604,\n",
       "        -0.33735119],\n",
       "       [ 0.        ,  0.        ,  0.        ,  0.98440379, -0.12312763,\n",
       "         0.12565336],\n",
       "       [ 0.        ,  0.        ,  0.        ,  0.13508639,  0.98659623,\n",
       "        -0.09153989],\n",
       "       [ 0.        ,  0.        ,  0.        , -0.11269804,  0.10708628,\n",
       "         0.98784193]])"
      ]
     },
     "execution_count": 16,
     "metadata": {},
     "output_type": "execute_result"
    }
   ],
   "source": [
    "SE3.exp(se3(x1)).Ad_matrix"
   ]
  },
  {
   "cell_type": "code",
   "execution_count": 17,
   "metadata": {},
   "outputs": [
    {
     "data": {
      "text/plain": [
       "array([[ 0.00000000e+00,  0.00000000e+00,  0.00000000e+00,\n",
       "         0.00000000e+00,  0.00000000e+00,  4.44089210e-16],\n",
       "       [ 2.77555756e-17,  1.11022302e-16,  0.00000000e+00,\n",
       "         0.00000000e+00, -1.11022302e-16, -2.22044605e-16],\n",
       "       [-1.38777878e-17,  0.00000000e+00,  2.22044605e-16,\n",
       "         6.66133815e-16,  4.44089210e-16,  5.55111512e-17],\n",
       "       [ 0.00000000e+00,  0.00000000e+00,  0.00000000e+00,\n",
       "         0.00000000e+00,  0.00000000e+00,  0.00000000e+00],\n",
       "       [ 0.00000000e+00,  0.00000000e+00,  0.00000000e+00,\n",
       "         2.77555756e-17,  1.11022302e-16,  0.00000000e+00],\n",
       "       [ 0.00000000e+00,  0.00000000e+00,  0.00000000e+00,\n",
       "        -1.38777878e-17,  0.00000000e+00,  2.22044605e-16]])"
      ]
     },
     "execution_count": 17,
     "metadata": {},
     "output_type": "execute_result"
    }
   ],
   "source": [
    "SE3.exp(se3(x1)).Ad_matrix - linalg.expm(se3(x1).ad_matrix)"
   ]
  },
  {
   "cell_type": "code",
   "execution_count": 18,
   "metadata": {},
   "outputs": [
    {
     "data": {
      "text/plain": [
       "array([[ 0.99500417, -0.09983342,  2.04662668],\n",
       "       [ 0.09983342,  0.99500417, -0.89841747],\n",
       "       [ 0.        ,  0.        ,  1.        ]])"
      ]
     },
     "execution_count": 18,
     "metadata": {},
     "output_type": "execute_result"
    }
   ],
   "source": [
    "SE2.exp(se2(x2)).Ad_matrix"
   ]
  },
  {
   "cell_type": "code",
   "execution_count": 19,
   "metadata": {},
   "outputs": [
    {
     "data": {
      "text/plain": [
       "array([[-1.11022302e-16,  1.38777878e-17,  4.44089210e-16],\n",
       "       [-1.38777878e-17, -1.11022302e-16,  1.22124533e-15],\n",
       "       [ 0.00000000e+00,  0.00000000e+00,  0.00000000e+00]])"
      ]
     },
     "execution_count": 19,
     "metadata": {},
     "output_type": "execute_result"
    }
   ],
   "source": [
    "SE2.exp(se2(x2)).Ad_matrix - linalg.expm(se2(x2).ad_matrix)"
   ]
  },
  {
   "cell_type": "code",
   "execution_count": null,
   "metadata": {},
   "outputs": [],
   "source": []
  }
 ],
 "metadata": {
  "kernelspec": {
   "display_name": "base",
   "language": "python",
   "name": "python3"
  },
  "language_info": {
   "codemirror_mode": {
    "name": "ipython",
    "version": 3
   },
   "file_extension": ".py",
   "mimetype": "text/x-python",
   "name": "python",
   "nbconvert_exporter": "python",
   "pygments_lexer": "ipython3",
   "version": "3.8.12"
  },
  "orig_nbformat": 4
 },
 "nbformat": 4,
 "nbformat_minor": 2
}
