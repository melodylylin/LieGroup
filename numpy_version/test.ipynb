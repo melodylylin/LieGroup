{
 "cells": [
  {
   "cell_type": "code",
   "execution_count": 14,
   "metadata": {},
   "outputs": [
    {
     "name": "stdout",
     "output_type": "stream",
     "text": [
      "The autoreload extension is already loaded. To reload it, use:\n",
      "  %reload_ext autoreload\n"
     ]
    }
   ],
   "source": [
    "from SE3 import se3, SE3\n",
    "from SO3 import so3, DCM, Euler, MRP, Quat\n",
    "from SE2 import se2, SE2\n",
    "from SO2 import so2, SO2\n",
    "import numpy as np\n",
    "%load_ext autoreload\n",
    "%autoreload 2"
   ]
  },
  {
   "cell_type": "code",
   "execution_count": 15,
   "metadata": {},
   "outputs": [],
   "source": [
    "x = np.array([1,2,3,0.1,0.2,0.3])\n",
    "y = np.array([2,4,6,0.01,0.02,0.03])\n",
    "theta = x[3:6]"
   ]
  },
  {
   "cell_type": "code",
   "execution_count": 16,
   "metadata": {},
   "outputs": [
    {
     "name": "stdout",
     "output_type": "stream",
     "text": [
      "wedge: [[ 0.  -0.3  0.2]\n",
      " [ 0.3  0.  -0.1]\n",
      " [-0.2  0.1  0. ]]\n",
      "vee: [0.1 0.2 0.3]\n",
      "exp: [[ 0.9357548  -0.28316496  0.21019171]\n",
      " [ 0.30293271  0.95058062 -0.06803132]\n",
      " [-0.18054008  0.12733457  0.97529031]]\n",
      "exp_ele: [0.12982634 0.18153552 0.31308358]\n"
     ]
    }
   ],
   "source": [
    "#test so3\n",
    "a = so3(theta)\n",
    "aw = a.wedge\n",
    "print('wedge:', aw)\n",
    "av = so3.vee(aw)\n",
    "print('vee:', av)\n",
    "\n",
    "A = DCM.exp(a)\n",
    "print('exp:', A)\n",
    "theta_group = Euler.from_dcm(A)\n",
    "print('exp_ele:', theta_group)"
   ]
  },
  {
   "cell_type": "code",
   "execution_count": 19,
   "metadata": {},
   "outputs": [
    {
     "name": "stdout",
     "output_type": "stream",
     "text": [
      "SO3: [[ 0.9357548  -0.28316496  0.21019171]\n",
      " [ 0.30293271  0.95058062 -0.06803132]\n",
      " [-0.18054008  0.12733457  0.97529031]]\n",
      "inv [[ 0.9357548   0.30293271 -0.18054008]\n",
      " [-0.28316496  0.95058062  0.12733457]\n",
      " [ 0.21019171 -0.06803132  0.97529031]]\n",
      "log: [[ 0.  -0.3  0.2]\n",
      " [ 0.3  0.  -0.1]\n",
      " [-0.2  0.1  0. ]]\n",
      "log_v: [0.1 0.2 0.3]\n"
     ]
    }
   ],
   "source": [
    "# test SO3\n",
    "B = DCM.from_euler(theta_group) \n",
    "print('SO3:', B)\n",
    "print('inv', DCM(B).inv)\n",
    "b = DCM.log(DCM(B))\n",
    "print('log:', b)\n",
    "print('log_v:', so3.vee(b))\n"
   ]
  },
  {
   "cell_type": "code",
   "execution_count": 20,
   "metadata": {},
   "outputs": [
    {
     "data": {
      "text/plain": [
       "array([[ 1.00000000e+00, -6.20201117e-17,  4.00608379e-18],\n",
       "       [-6.20201117e-17,  1.00000000e+00,  1.71882035e-19],\n",
       "       [ 4.00608379e-18,  1.71882035e-19,  1.00000000e+00]])"
      ]
     },
     "execution_count": 20,
     "metadata": {},
     "output_type": "execute_result"
    }
   ],
   "source": [
    "# check inv\n",
    "DCM(B).inv@B"
   ]
  },
  {
   "cell_type": "code",
   "execution_count": 21,
   "metadata": {},
   "outputs": [
    {
     "name": "stdout",
     "output_type": "stream",
     "text": [
      "[[ 0.  -0.3  0.2]\n",
      " [ 0.3  0.  -0.1]\n",
      " [-0.2  0.1  0. ]]\n",
      "wedge: [[ 0.  -0.3  0.2  1. ]\n",
      " [ 0.3  0.  -0.1  2. ]\n",
      " [-0.2  0.1  0.   3. ]\n",
      " [ 0.   0.   0.   0. ]]\n",
      "vee: [1.  2.  3.  0.1 0.2 0.3]\n",
      "exp: [[ 0.9357548  -0.28316496  0.21019171  1.        ]\n",
      " [ 0.30293271  0.95058062 -0.06803132  2.        ]\n",
      " [-0.18054008  0.12733457  0.97529031  3.        ]\n",
      " [ 0.          0.          0.          1.        ]]\n",
      "exp_ele: [1.         2.         3.         0.12982634 0.18153552 0.31308358]\n"
     ]
    }
   ],
   "source": [
    "# test se3\n",
    "c = se3(x)\n",
    "print(c.w)\n",
    "cw = c.wedge\n",
    "print('wedge:', cw)\n",
    "print('vee:', se3.vee(cw))\n",
    "\n",
    "C = SE3.exp(c)\n",
    "print('exp:', C)\n",
    "C_group = SE3.to_vec(C)\n",
    "print('exp_ele:', C_group)"
   ]
  },
  {
   "cell_type": "code",
   "execution_count": 22,
   "metadata": {},
   "outputs": [
    {
     "data": {
      "text/plain": [
       "array([[ 0. , -0.3,  0.2,  0. , -3. ,  2. ],\n",
       "       [ 0.3,  0. , -0.1,  3. ,  0. , -1. ],\n",
       "       [-0.2,  0.1,  0. , -2. ,  1. ,  0. ],\n",
       "       [ 0. ,  0. ,  0. ,  0. , -0.3,  0.2],\n",
       "       [ 0. ,  0. ,  0. ,  0.3,  0. , -0.1],\n",
       "       [ 0. ,  0. ,  0. , -0.2,  0.1,  0. ]])"
      ]
     },
     "execution_count": 22,
     "metadata": {},
     "output_type": "execute_result"
    }
   ],
   "source": [
    "c.ad_matrix"
   ]
  },
  {
   "attachments": {},
   "cell_type": "markdown",
   "metadata": {},
   "source": [
    "Note that the elements of SE3 Lie group has to use [x,y,z,theta1,theta2,theta3] (pos, euler angles)\n",
    "\n",
    "if you have your angle in other format, use SO3 class to do the transformation first"
   ]
  },
  {
   "cell_type": "code",
   "execution_count": 24,
   "metadata": {},
   "outputs": [
    {
     "name": "stdout",
     "output_type": "stream",
     "text": [
      "SE3: [[ 0.9357548  -0.28316496  0.21019171  1.        ]\n",
      " [ 0.30293271  0.95058062 -0.06803132  2.        ]\n",
      " [-0.18054008  0.12733457  0.97529031  3.        ]\n",
      " [ 0.          0.          0.          1.        ]]\n",
      "inv: [[ 0.9357548   0.30293271 -0.18054008 -1.        ]\n",
      " [-0.28316496  0.95058062  0.12733457 -2.        ]\n",
      " [ 0.21019171 -0.06803132  0.97529031 -3.        ]\n",
      " [ 0.          0.          0.          1.        ]]\n"
     ]
    },
    {
     "ename": "NameError",
     "evalue": "name 'p' is not defined",
     "output_type": "error",
     "traceback": [
      "\u001b[0;31m---------------------------------------------------------------------------\u001b[0m",
      "\u001b[0;31mNameError\u001b[0m                                 Traceback (most recent call last)",
      "\u001b[0;32m/var/folders/2s/jblgkv5d2jq78y5d19rmx_r00000gn/T/ipykernel_21947/2212429738.py\u001b[0m in \u001b[0;36m<module>\u001b[0;34m\u001b[0m\n\u001b[1;32m      3\u001b[0m \u001b[0mprint\u001b[0m\u001b[0;34m(\u001b[0m\u001b[0;34m'SE3:'\u001b[0m\u001b[0;34m,\u001b[0m \u001b[0mD\u001b[0m\u001b[0;34m.\u001b[0m\u001b[0mto_matrix\u001b[0m\u001b[0;34m)\u001b[0m\u001b[0;34m\u001b[0m\u001b[0;34m\u001b[0m\u001b[0m\n\u001b[1;32m      4\u001b[0m \u001b[0mprint\u001b[0m\u001b[0;34m(\u001b[0m\u001b[0;34m'inv:'\u001b[0m\u001b[0;34m,\u001b[0m \u001b[0mD\u001b[0m\u001b[0;34m.\u001b[0m\u001b[0minv\u001b[0m\u001b[0;34m)\u001b[0m\u001b[0;34m\u001b[0m\u001b[0;34m\u001b[0m\u001b[0m\n\u001b[0;32m----> 5\u001b[0;31m \u001b[0md\u001b[0m \u001b[0;34m=\u001b[0m \u001b[0mSE3\u001b[0m\u001b[0;34m.\u001b[0m\u001b[0mlog\u001b[0m\u001b[0;34m(\u001b[0m\u001b[0mD\u001b[0m\u001b[0;34m)\u001b[0m\u001b[0;34m\u001b[0m\u001b[0;34m\u001b[0m\u001b[0m\n\u001b[0m\u001b[1;32m      6\u001b[0m \u001b[0mprint\u001b[0m\u001b[0;34m(\u001b[0m\u001b[0;34m'log:'\u001b[0m\u001b[0;34m,\u001b[0m \u001b[0md\u001b[0m\u001b[0;34m)\u001b[0m\u001b[0;34m\u001b[0m\u001b[0;34m\u001b[0m\u001b[0m\n\u001b[1;32m      7\u001b[0m \u001b[0mprint\u001b[0m\u001b[0;34m(\u001b[0m\u001b[0;34m'log_vee:'\u001b[0m\u001b[0;34m,\u001b[0m \u001b[0mse3\u001b[0m\u001b[0;34m.\u001b[0m\u001b[0mvee\u001b[0m\u001b[0;34m(\u001b[0m\u001b[0md\u001b[0m\u001b[0;34m)\u001b[0m\u001b[0;34m)\u001b[0m\u001b[0;34m\u001b[0m\u001b[0;34m\u001b[0m\u001b[0m\n",
      "\u001b[0;32m~/.Trash/LieGroup/numpy_version/SE3.py\u001b[0m in \u001b[0;36mlog\u001b[0;34m(cls, G)\u001b[0m\n\u001b[1;32m    102\u001b[0m         \u001b[0mt\u001b[0m \u001b[0;34m=\u001b[0m \u001b[0mX\u001b[0m\u001b[0;34m[\u001b[0m\u001b[0;36m0\u001b[0m\u001b[0;34m:\u001b[0m\u001b[0;36m3\u001b[0m\u001b[0;34m,\u001b[0m\u001b[0;36m3\u001b[0m\u001b[0;34m]\u001b[0m\u001b[0;34m\u001b[0m\u001b[0;34m\u001b[0m\u001b[0m\n\u001b[1;32m    103\u001b[0m         \u001b[0muInv\u001b[0m \u001b[0;34m=\u001b[0m \u001b[0mV_inv\u001b[0m \u001b[0;34m@\u001b[0m \u001b[0mt\u001b[0m\u001b[0;34m\u001b[0m\u001b[0;34m\u001b[0m\u001b[0m\n\u001b[0;32m--> 104\u001b[0;31m         \u001b[0;32mreturn\u001b[0m \u001b[0mnp\u001b[0m\u001b[0;34m.\u001b[0m\u001b[0mblock\u001b[0m\u001b[0;34m(\u001b[0m\u001b[0;34m[\u001b[0m\u001b[0;34m[\u001b[0m\u001b[0mwSkew\u001b[0m\u001b[0;34m,\u001b[0m \u001b[0muInv\u001b[0m\u001b[0;34m.\u001b[0m\u001b[0mreshape\u001b[0m\u001b[0;34m(\u001b[0m\u001b[0;36m3\u001b[0m\u001b[0;34m,\u001b[0m\u001b[0;36m1\u001b[0m\u001b[0;34m)\u001b[0m\u001b[0;34m]\u001b[0m\u001b[0;34m,\u001b[0m\u001b[0;34m[\u001b[0m\u001b[0mp\u001b[0m\u001b[0;34m.\u001b[0m\u001b[0mzeros\u001b[0m\u001b[0;34m(\u001b[0m\u001b[0;34m(\u001b[0m\u001b[0;36m1\u001b[0m\u001b[0;34m,\u001b[0m\u001b[0;36m4\u001b[0m\u001b[0;34m)\u001b[0m\u001b[0;34m)\u001b[0m\u001b[0;34m]\u001b[0m\u001b[0;34m]\u001b[0m\u001b[0;34m)\u001b[0m\u001b[0;34m\u001b[0m\u001b[0;34m\u001b[0m\u001b[0m\n\u001b[0m\u001b[1;32m    105\u001b[0m \u001b[0;34m\u001b[0m\u001b[0m\n\u001b[1;32m    106\u001b[0m     \u001b[0;34m@\u001b[0m\u001b[0mclassmethod\u001b[0m\u001b[0;34m\u001b[0m\u001b[0;34m\u001b[0m\u001b[0m\n",
      "\u001b[0;31mNameError\u001b[0m: name 'p' is not defined"
     ]
    }
   ],
   "source": [
    "# test SE3\n",
    "D = SE3(C_group)\n",
    "print('SE3:', D.to_matrix)\n",
    "print('inv:', D.inv)\n",
    "d = SE3.log(D) \n",
    "print('log:', d)\n",
    "print('log_vee:', se3.vee(d))"
   ]
  },
  {
   "cell_type": "code",
   "execution_count": null,
   "metadata": {},
   "outputs": [],
   "source": [
    "# check inv\n",
    "D.to_matrix@D.inv"
   ]
  }
 ],
 "metadata": {
  "kernelspec": {
   "display_name": "base",
   "language": "python",
   "name": "python3"
  },
  "language_info": {
   "codemirror_mode": {
    "name": "ipython",
    "version": 3
   },
   "file_extension": ".py",
   "mimetype": "text/x-python",
   "name": "python",
   "nbconvert_exporter": "python",
   "pygments_lexer": "ipython3",
   "version": "3.8.12"
  },
  "orig_nbformat": 4
 },
 "nbformat": 4,
 "nbformat_minor": 2
}
