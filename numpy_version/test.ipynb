{
 "cells": [
  {
   "cell_type": "code",
   "execution_count": 1,
   "metadata": {},
   "outputs": [],
   "source": [
    "import SE3Lie\n",
    "import SO3Lie\n",
    "import numpy as np"
   ]
  },
  {
   "cell_type": "code",
   "execution_count": 2,
   "metadata": {},
   "outputs": [],
   "source": [
    "SE3 = SE3Lie.SE3\n",
    "se3 = SE3Lie.se3\n",
    "DCM = SO3Lie.SO3DCM\n",
    "Euler = SO3Lie.SO3Euler\n",
    "so3 = SO3Lie.so3"
   ]
  },
  {
   "cell_type": "code",
   "execution_count": 3,
   "metadata": {},
   "outputs": [],
   "source": [
    "x = np.array([1,2,3,0.1,0.2,0.3])\n",
    "theta = x[3:6]"
   ]
  },
  {
   "cell_type": "code",
   "execution_count": 4,
   "metadata": {},
   "outputs": [
    {
     "name": "stdout",
     "output_type": "stream",
     "text": [
      "wedge: [[ 0.  -0.3  0.2]\n",
      " [ 0.3  0.  -0.1]\n",
      " [-0.2  0.1  0. ]]\n",
      "vee: [0.1 0.2 0.3]\n",
      "exp: [[ 0.9357548  -0.28316496  0.21019171]\n",
      " [ 0.30293271  0.95058062 -0.06803132]\n",
      " [-0.18054008  0.12733457  0.97529031]]\n",
      "exp_ele: [0.12982634 0.18153552 0.31308358]\n"
     ]
    }
   ],
   "source": [
    "#test so3\n",
    "a = so3(theta)\n",
    "aw = a.wedge\n",
    "print('wedge:', aw)\n",
    "av = so3.vee(aw)\n",
    "print('vee:', av)\n",
    "\n",
    "A = so3.exp(aw)\n",
    "print('exp:', A)\n",
    "theta_group = Euler.from_dcm(A)\n",
    "print('exp_ele:', theta_group)"
   ]
  },
  {
   "cell_type": "code",
   "execution_count": 5,
   "metadata": {},
   "outputs": [
    {
     "name": "stdout",
     "output_type": "stream",
     "text": [
      "SO3: [[ 0.9357548  -0.28316496  0.21019171]\n",
      " [ 0.30293271  0.95058062 -0.06803132]\n",
      " [-0.18054008  0.12733457  0.97529031]]\n",
      "inv [[ 0.9357548   0.30293271 -0.18054008]\n",
      " [-0.28316496  0.95058062  0.12733457]\n",
      " [ 0.21019171 -0.06803132  0.97529031]]\n",
      "log: [[ 0.  -0.3  0.2]\n",
      " [ 0.3  0.  -0.1]\n",
      " [-0.2  0.1  0. ]]\n",
      "log_v: [0.1 0.2 0.3]\n"
     ]
    }
   ],
   "source": [
    "# test SO3\n",
    "B = DCM.from_euler(theta_group) \n",
    "print('SO3:', B)\n",
    "print('inv', DCM(B).inv)\n",
    "b = DCM(B).log\n",
    "print('log:', b)\n",
    "print('log_v:', so3.vee(b))\n"
   ]
  },
  {
   "cell_type": "code",
   "execution_count": 6,
   "metadata": {},
   "outputs": [
    {
     "data": {
      "text/plain": [
       "array([[ 1.00000000e+00, -6.20201117e-17,  4.00608379e-18],\n",
       "       [-6.20201117e-17,  1.00000000e+00,  1.71882035e-19],\n",
       "       [ 4.00608379e-18,  1.71882035e-19,  1.00000000e+00]])"
      ]
     },
     "execution_count": 6,
     "metadata": {},
     "output_type": "execute_result"
    }
   ],
   "source": [
    "# check inv\n",
    "DCM(B).inv@B"
   ]
  },
  {
   "cell_type": "code",
   "execution_count": 7,
   "metadata": {},
   "outputs": [
    {
     "name": "stdout",
     "output_type": "stream",
     "text": [
      "wedge: [[ 0.  -0.3  0.2  1. ]\n",
      " [ 0.3  0.  -0.1  2. ]\n",
      " [-0.2  0.1  0.   3. ]\n",
      " [ 0.   0.   0.   0. ]]\n",
      "vee: [1.  2.  3.  0.1 0.2 0.3]\n",
      "exp: [[ 0.9357548  -0.28316496  0.21019171  1.        ]\n",
      " [ 0.30293271  0.95058062 -0.06803132  2.        ]\n",
      " [-0.18054008  0.12733457  0.97529031  3.        ]\n",
      " [ 0.          0.          0.          1.        ]]\n",
      "exp_ele: [1.         2.         3.         0.12982634 0.18153552 0.31308358]\n"
     ]
    }
   ],
   "source": [
    "# test se3\n",
    "c = se3(x)\n",
    "cw = c.wedge\n",
    "print('wedge:', cw)\n",
    "print('vee:', se3.vee(cw))\n",
    "\n",
    "C = se3.exp(cw)\n",
    "print('exp:', C)\n",
    "C_group = SE3.to_vec(C)\n",
    "print('exp_ele:', C_group)"
   ]
  },
  {
   "cell_type": "code",
   "execution_count": 8,
   "metadata": {},
   "outputs": [
    {
     "name": "stdout",
     "output_type": "stream",
     "text": [
      "SE3: [[ 0.9357548  -0.28316496  0.21019171  1.        ]\n",
      " [ 0.30293271  0.95058062 -0.06803132  2.        ]\n",
      " [-0.18054008  0.12733457  0.97529031  3.        ]\n",
      " [ 0.          0.          0.          1.        ]]\n",
      "inv: [[ 0.9357548   0.30293271 -0.18054008 -1.        ]\n",
      " [-0.28316496  0.95058062  0.12733457 -2.        ]\n",
      " [ 0.21019171 -0.06803132  0.97529031 -3.        ]\n",
      " [ 0.          0.          0.          1.        ]]\n",
      "log: [[ 0.  -0.3  0.2  1. ]\n",
      " [ 0.3  0.  -0.1  2. ]\n",
      " [-0.2  0.1  0.   3. ]\n",
      " [ 0.   0.   0.   0. ]]\n",
      "log_vee: [1.  2.  3.  0.1 0.2 0.3]\n"
     ]
    }
   ],
   "source": [
    "# test SE3\n",
    "D = SE3(C_group)\n",
    "print('SE3:', D.M)\n",
    "print('inv:', D.inv)\n",
    "d = SE3.log(D.M) \n",
    "print('log:', d)\n",
    "print('log_vee:', se3.vee(d))"
   ]
  },
  {
   "cell_type": "code",
   "execution_count": 9,
   "metadata": {},
   "outputs": [
    {
     "data": {
      "text/plain": [
       "array([[ 1.00000000e+00, -5.73362522e-17, -4.00266198e-17,\n",
       "         0.00000000e+00],\n",
       "       [-5.73362522e-17,  1.00000000e+00,  1.10537728e-17,\n",
       "        -6.66133815e-16],\n",
       "       [-4.00266198e-17,  1.10537728e-17,  1.00000000e+00,\n",
       "        -4.44089210e-16],\n",
       "       [ 0.00000000e+00,  0.00000000e+00,  0.00000000e+00,\n",
       "         1.00000000e+00]])"
      ]
     },
     "execution_count": 9,
     "metadata": {},
     "output_type": "execute_result"
    }
   ],
   "source": [
    "# check inv\n",
    "D.M@D.inv"
   ]
  },
  {
   "cell_type": "code",
   "execution_count": null,
   "metadata": {},
   "outputs": [],
   "source": []
  }
 ],
 "metadata": {
  "kernelspec": {
   "display_name": "base",
   "language": "python",
   "name": "python3"
  },
  "language_info": {
   "codemirror_mode": {
    "name": "ipython",
    "version": 3
   },
   "file_extension": ".py",
   "mimetype": "text/x-python",
   "name": "python",
   "nbconvert_exporter": "python",
   "pygments_lexer": "ipython3",
   "version": "3.8.12"
  },
  "orig_nbformat": 4
 },
 "nbformat": 4,
 "nbformat_minor": 2
}
